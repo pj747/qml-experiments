{
  "nbformat": 4,
  "nbformat_minor": 0,
  "metadata": {
    "colab": {
      "name": "QML.ipynb",
      "provenance": [],
      "collapsed_sections": [],
      "authorship_tag": "ABX9TyOCGi+lEBUbcMgSpkujOYes",
      "include_colab_link": true
    },
    "kernelspec": {
      "name": "python3",
      "display_name": "Python 3"
    },
    "language_info": {
      "name": "python"
    }
  },
  "cells": [
    {
      "cell_type": "markdown",
      "metadata": {
        "id": "view-in-github",
        "colab_type": "text"
      },
      "source": [
        "<a href=\"https://colab.research.google.com/github/pj747/qml-experiments/blob/main/QML.ipynb\" target=\"_parent\"><img src=\"https://colab.research.google.com/assets/colab-badge.svg\" alt=\"Open In Colab\"/></a>"
      ]
    },
    {
      "cell_type": "code",
      "metadata": {
        "colab": {
          "base_uri": "https://localhost:8080/"
        },
        "id": "XJTVCV_H-Qq3",
        "outputId": "dc4d00ff-8dbf-4eec-c31f-28fcbf36e7f8"
      },
      "source": [
        "!pip install pennylane --upgrade\n",
        "!pip install wandb\n",
        "!wandb login"
      ],
      "execution_count": 1,
      "outputs": [
        {
          "output_type": "stream",
          "text": [
            "Requirement already up-to-date: pennylane in /usr/local/lib/python3.7/dist-packages (0.15.1)\n",
            "Requirement already satisfied, skipping upgrade: appdirs in /usr/local/lib/python3.7/dist-packages (from pennylane) (1.4.4)\n",
            "Requirement already satisfied, skipping upgrade: networkx in /usr/local/lib/python3.7/dist-packages (from pennylane) (2.5.1)\n",
            "Requirement already satisfied, skipping upgrade: semantic-version==2.6 in /usr/local/lib/python3.7/dist-packages (from pennylane) (2.6.0)\n",
            "Requirement already satisfied, skipping upgrade: scipy in /usr/local/lib/python3.7/dist-packages (from pennylane) (1.4.1)\n",
            "Requirement already satisfied, skipping upgrade: autograd in /usr/local/lib/python3.7/dist-packages (from pennylane) (1.3)\n",
            "Requirement already satisfied, skipping upgrade: numpy in /usr/local/lib/python3.7/dist-packages (from pennylane) (1.19.5)\n",
            "Requirement already satisfied, skipping upgrade: toml in /usr/local/lib/python3.7/dist-packages (from pennylane) (0.10.2)\n",
            "Requirement already satisfied, skipping upgrade: decorator<5,>=4.3 in /usr/local/lib/python3.7/dist-packages (from networkx->pennylane) (4.4.2)\n",
            "Requirement already satisfied, skipping upgrade: future>=0.15.2 in /usr/local/lib/python3.7/dist-packages (from autograd->pennylane) (0.16.0)\n",
            "Requirement already satisfied: wandb in /usr/local/lib/python3.7/dist-packages (0.10.31)\n",
            "Requirement already satisfied: PyYAML in /usr/local/lib/python3.7/dist-packages (from wandb) (3.13)\n",
            "Requirement already satisfied: GitPython>=1.0.0 in /usr/local/lib/python3.7/dist-packages (from wandb) (3.1.17)\n",
            "Requirement already satisfied: configparser>=3.8.1 in /usr/local/lib/python3.7/dist-packages (from wandb) (5.0.2)\n",
            "Requirement already satisfied: six>=1.13.0 in /usr/local/lib/python3.7/dist-packages (from wandb) (1.15.0)\n",
            "Requirement already satisfied: requests<3,>=2.0.0 in /usr/local/lib/python3.7/dist-packages (from wandb) (2.23.0)\n",
            "Requirement already satisfied: promise<3,>=2.0 in /usr/local/lib/python3.7/dist-packages (from wandb) (2.3)\n",
            "Requirement already satisfied: Click>=7.0 in /usr/local/lib/python3.7/dist-packages (from wandb) (7.1.2)\n",
            "Requirement already satisfied: python-dateutil>=2.6.1 in /usr/local/lib/python3.7/dist-packages (from wandb) (2.8.1)\n",
            "Requirement already satisfied: psutil>=5.0.0 in /usr/local/lib/python3.7/dist-packages (from wandb) (5.4.8)\n",
            "Requirement already satisfied: subprocess32>=3.5.3 in /usr/local/lib/python3.7/dist-packages (from wandb) (3.5.4)\n",
            "Requirement already satisfied: docker-pycreds>=0.4.0 in /usr/local/lib/python3.7/dist-packages (from wandb) (0.4.0)\n",
            "Requirement already satisfied: pathtools in /usr/local/lib/python3.7/dist-packages (from wandb) (0.1.2)\n",
            "Requirement already satisfied: sentry-sdk>=0.4.0 in /usr/local/lib/python3.7/dist-packages (from wandb) (1.1.0)\n",
            "Requirement already satisfied: shortuuid>=0.5.0 in /usr/local/lib/python3.7/dist-packages (from wandb) (1.0.1)\n",
            "Requirement already satisfied: protobuf>=3.12.0 in /usr/local/lib/python3.7/dist-packages (from wandb) (3.12.4)\n",
            "Requirement already satisfied: gitdb<5,>=4.0.1 in /usr/local/lib/python3.7/dist-packages (from GitPython>=1.0.0->wandb) (4.0.7)\n",
            "Requirement already satisfied: typing-extensions>=3.7.4.0; python_version < \"3.8\" in /usr/local/lib/python3.7/dist-packages (from GitPython>=1.0.0->wandb) (3.7.4.3)\n",
            "Requirement already satisfied: urllib3!=1.25.0,!=1.25.1,<1.26,>=1.21.1 in /usr/local/lib/python3.7/dist-packages (from requests<3,>=2.0.0->wandb) (1.24.3)\n",
            "Requirement already satisfied: certifi>=2017.4.17 in /usr/local/lib/python3.7/dist-packages (from requests<3,>=2.0.0->wandb) (2020.12.5)\n",
            "Requirement already satisfied: chardet<4,>=3.0.2 in /usr/local/lib/python3.7/dist-packages (from requests<3,>=2.0.0->wandb) (3.0.4)\n",
            "Requirement already satisfied: idna<3,>=2.5 in /usr/local/lib/python3.7/dist-packages (from requests<3,>=2.0.0->wandb) (2.10)\n",
            "Requirement already satisfied: setuptools in /usr/local/lib/python3.7/dist-packages (from protobuf>=3.12.0->wandb) (56.1.0)\n",
            "Requirement already satisfied: smmap<5,>=3.0.1 in /usr/local/lib/python3.7/dist-packages (from gitdb<5,>=4.0.1->GitPython>=1.0.0->wandb) (4.0.0)\n",
            "\u001b[34m\u001b[1mwandb\u001b[0m: Currently logged in as: \u001b[33mpj747\u001b[0m (use `wandb login --relogin` to force relogin)\n"
          ],
          "name": "stdout"
        }
      ]
    },
    {
      "cell_type": "code",
      "metadata": {
        "id": "UrVSOd9K95-l"
      },
      "source": [
        "import pennylane as qml\n",
        "import math\n",
        "import wandb\n",
        "from pennylane import numpy as np\n",
        "from types import SimpleNamespace\n",
        "from sklearn.datasets import load_breast_cancer\n",
        "from sklearn.model_selection import train_test_split"
      ],
      "execution_count": 2,
      "outputs": []
    },
    {
      "cell_type": "code",
      "metadata": {
        "id": "iw-3i-hy99AC"
      },
      "source": [
        "dataSet = load_breast_cancer()\n",
        "X = dataSet.data\n",
        "Y = dataSet.target\n",
        "Y = Y * 2 - np.ones(len(Y))\n",
        "X_train, X_test, Y_train, Y_test = train_test_split(X, Y, test_size=0.1, random_state=1)"
      ],
      "execution_count": 3,
      "outputs": []
    },
    {
      "cell_type": "code",
      "metadata": {
        "id": "E9S_8F759tUR"
      },
      "source": [
        "def accuracy(labels, predictions):\n",
        "    accuracy = 0\n",
        "    for l, p in zip(labels, predictions):\n",
        "        if abs(l - p) < 1e-5:\n",
        "            accuracy = accuracy + 1\n",
        "    accuracy = accuracy / len(labels)\n",
        "\n",
        "    return accuracy\n",
        "\n",
        "def lossFunction(labels, predictedLabels):\n",
        "    loss = 0\n",
        "    for l, p in zip(labels, predictedLabels):\n",
        "        loss += (l-p) ** 2\n",
        "    loss /= len(labels)\n",
        "    return loss\n",
        "\n",
        "def cost(qcircuit, params, X, Y):\n",
        "    predictions = [getPrediction(qcircuit, params, x) for x in X]\n",
        "    return lossFunction(Y, predictions)\n",
        "\n",
        "def getPrediction(qcircuit, params, data=None):\n",
        "    \n",
        "    quantumOutput = qcircuit(params, data)\n",
        "    # print(\"For\", data)\n",
        "    # print(\"Prediction: \", quantumOutput)\n",
        "    return quantumOutput\n",
        "    #no bias\n",
        "\n",
        "def makeModel(config):\n",
        "    numQubits = config.numQubits\n",
        "    dev = qml.device(config.dev, wires=numQubits, shots=1000)\n",
        "    @qml.qnode(dev)\n",
        "    def qcircuit(param, data):\n",
        "        for i in range(config.numLayers):\n",
        "            embeddingCircuit(config, data)\n",
        "            if config.fullEntangle:\n",
        "                for j in range(numQubits):\n",
        "                    for i in range(j):\n",
        "                        qml.CZ(wires=[j,i])\n",
        "            else:\n",
        "                for j in range(numQubits-1):\n",
        "                    qml.CZ(wires=[j,j+1])\n",
        "            for j in range(numQubits):\n",
        "                qml.Rot(param[j][i][0], param[j][i][1], param[j][i][2], wires = [j])\n",
        "            \n",
        "        return qml.expval(qml.PauliZ(0))\n",
        "\n",
        "    def embeddingCircuit(config, data):\n",
        "        norm = np.linalg.norm(data)\n",
        "        norm = norm if norm !=0 else 1 \n",
        "        for i in range(0, len(data)-numQubits, numQubits):\n",
        "            for j in range(numQubits):\n",
        "                qml.RX(data[i+j]*2*math.pi/norm, wires=j)\n",
        "    \n",
        "    return qcircuit\n",
        "\n",
        "\n",
        "def createAndTrain(config, WandB = False):\n",
        "    varInit = 0.01 * np.random.randn(config.numQubits, config.numLayers, 3)\n",
        "    opt = qml.AdamOptimizer()\n",
        "    batchSize = config.batchSize\n",
        "    var = varInit\n",
        "    qcircuit = makeModel(config)\n",
        "    qcircuit(var, X_train[0])\n",
        "    circ = qcircuit.draw()\n",
        "    if WandB:\n",
        "        wandb.log({\"circuit\": str(circ)})\n",
        "\n",
        "    print(\"Sample Circuit:\\n\" , circ)\n",
        "    numBatches = config.numBatches\n",
        "    for it in range(numBatches):\n",
        "        batchIndex = np.random.randint(0, len(X_train), (batchSize,))\n",
        "        X_batch = X_train[batchIndex]\n",
        "        Y_batch = Y_train[batchIndex]\n",
        "        var = opt.step(lambda v: cost(qcircuit, v, X_batch, Y_batch), var)\n",
        "        # Compute accuracy\n",
        "        print(\"Computed batch \", it, var)\n",
        "        predictions = []\n",
        "        if(it%10 == 0):\n",
        "            for x in X_test:\n",
        "                #print(var, x)\n",
        "                op = qcircuit(var, x)\n",
        "                predictions.append(np.sign(op))\n",
        "\n",
        "                #print(qcircuit.draw())\n",
        "            acc = accuracy(Y_test, predictions)\n",
        "            loss = lossFunction(Y_test, predictions)\n",
        "            test_loss = float(loss)\n",
        "            test_acc = float(acc)\n",
        "            predictions = []\n",
        "            if(it%50==0):\n",
        "                for x in X_train:\n",
        "                    op = qcircuit(var, x)\n",
        "                    predictions.append(np.sign(op))\n",
        "                acc = accuracy(Y_train, predictions)\n",
        "                loss = lossFunction(Y_train, predictions)\n",
        "                loss = float(loss)\n",
        "                a = float(acc)\n",
        "                if WandB:\n",
        "                    wandb.log({\"train_cost\":loss, \"train_acc\":a}, commit=False)\n",
        "            if WandB:\n",
        "                wandb.log({\"test_cost\":test_loss, \"test_acc\":test_acc})\n",
        "    if WandB:\n",
        "        wandb.log({\"parameters\": var})\n",
        "    wandb.finish()"
      ],
      "execution_count": 7,
      "outputs": []
    },
    {
      "cell_type": "code",
      "metadata": {
        "id": "EHQDzP2H-AJ-"
      },
      "source": [
        "\n",
        "def wandbRun(config):\n",
        "    wandb.init(project='qml-experiments', entity='pj747', config=config)\n",
        "    createAndTrain(config, WandB=True)\n",
        "\n",
        "def wandbSweep():\n",
        "    run = wandb.init()\n",
        "    config = run.config\n",
        "    createAndTrain(config)"
      ],
      "execution_count": 8,
      "outputs": []
    },
    {
      "cell_type": "code",
      "metadata": {
        "colab": {
          "base_uri": "https://localhost:8080/",
          "height": 1000
        },
        "id": "MA9ueUDb-4bG",
        "outputId": "d0d73a0c-6bd9-41b3-c13c-30911b70ca7a"
      },
      "source": [
        "wandb.agent('at9tw1qm', function=wandbSweep, entity = 'pj747', project='qml-experiments')"
      ],
      "execution_count": null,
      "outputs": [
        {
          "output_type": "stream",
          "text": [
            "\u001b[34m\u001b[1mwandb\u001b[0m: \u001b[33mWARNING\u001b[0m Calling wandb.login() after wandb.init() has no effect.\n",
            "\u001b[34m\u001b[1mwandb\u001b[0m: Agent Starting Run: tk2zc03o with config:\n",
            "\u001b[34m\u001b[1mwandb\u001b[0m: \tbatchSize: 8\n",
            "\u001b[34m\u001b[1mwandb\u001b[0m: \tdev: default.qubit\n",
            "\u001b[34m\u001b[1mwandb\u001b[0m: \tfullEntangle: True\n",
            "\u001b[34m\u001b[1mwandb\u001b[0m: \tnumBatches: 500\n",
            "\u001b[34m\u001b[1mwandb\u001b[0m: \tnumLayers: 2\n",
            "\u001b[34m\u001b[1mwandb\u001b[0m: \tnumQubits: 1\n"
          ],
          "name": "stderr"
        },
        {
          "output_type": "display_data",
          "data": {
            "text/html": [
              "\n",
              "                Tracking run with wandb version 0.10.31<br/>\n",
              "                Syncing run <strong style=\"color:#cdcd00\">genial-sweep-4</strong> to <a href=\"https://wandb.ai\" target=\"_blank\">Weights & Biases</a> <a href=\"https://docs.wandb.com/integrations/jupyter.html\" target=\"_blank\">(Documentation)</a>.<br/>\n",
              "                Project page: <a href=\"https://wandb.ai/pj747/qml-experiments\" target=\"_blank\">https://wandb.ai/pj747/qml-experiments</a><br/>\n",
              "                Sweep page: <a href=\"https://wandb.ai/pj747/qml-experiments/sweeps/at9tw1qm\" target=\"_blank\">https://wandb.ai/pj747/qml-experiments/sweeps/at9tw1qm</a><br/>\n",
              "Run page: <a href=\"https://wandb.ai/pj747/qml-experiments/runs/tk2zc03o\" target=\"_blank\">https://wandb.ai/pj747/qml-experiments/runs/tk2zc03o</a><br/>\n",
              "                Run data is saved locally in <code>/content/wandb/run-20210529_120434-tk2zc03o</code><br/><br/>\n",
              "            "
            ],
            "text/plain": [
              "<IPython.core.display.HTML object>"
            ]
          },
          "metadata": {
            "tags": []
          }
        },
        {
          "output_type": "stream",
          "text": [
            "Sample Circuit:\n",
            "  0: ──RX(0.0709)──RX(0.0753)──RX(0.456)──RX(4.16)──RX(0.000336)──RX(0.000222)──RX(0.000302)──RX(0.00022)──RX(0.000584)──RX(0.000188)──RX(0.00124)──RX(0.00312)──RX(0.00891)──RX(0.139)──RX(2.85e-05)──RX(4.2e-05)──RX(9.89e-05)──RX(5.52e-05)──RX(7.28e-05)──RX(6.32e-06)──RX(0.0753)──RX(0.0916)──RX(0.486)──RX(4.66)──RX(0.000469)──RX(0.000437)──RX(0.000833)──RX(0.000488)──RX(0.000968)──Rot(-0.0125, -0.00801, 0.00679)──RX(0.0709)──RX(0.0753)──RX(0.456)──RX(4.16)──RX(0.000336)──RX(0.000222)──RX(0.000302)──RX(0.00022)──RX(0.000584)──RX(0.000188)──RX(0.00124)──RX(0.00312)──RX(0.00891)──RX(0.139)──RX(2.85e-05)──RX(4.2e-05)──RX(9.89e-05)──RX(5.52e-05)──RX(7.28e-05)──RX(6.32e-06)──RX(0.0753)──RX(0.0916)──RX(0.486)──RX(4.66)──RX(0.000469)──RX(0.000437)──RX(0.000833)──RX(0.000488)──RX(0.000968)──Rot(0.00934, 0.00314, -0.00357)──┤ ⟨Z⟩ \n",
            "\n",
            "Computed batch  0 [[[-0.00248056  0.00198601 -0.00320833]\n",
            "  [ 0.01933723  0.01313754 -0.01356944]]]\n",
            "Computed batch  1 [[[ 0.00445778  0.00852539 -0.00960637]\n",
            "  [ 0.02874189  0.02028638 -0.02128147]]]\n",
            "Computed batch  2 [[[ 0.01028499  0.01293964 -0.01406158]\n",
            "  [ 0.03502891  0.02555756 -0.02718197]]]\n",
            "Computed batch  3 [[[ 0.01597588  0.01571154 -0.01670287]\n",
            "  [ 0.03883123  0.0300735  -0.03155504]]]\n",
            "Computed batch  4 [[[ 0.02163338  0.01840814 -0.019009  ]\n",
            "  [ 0.0421282   0.03522557 -0.03663307]]]\n",
            "Computed batch  5 [[[ 0.02697704  0.02059333 -0.01893778]\n",
            "  [ 0.04300108  0.04057956 -0.03905031]]]\n",
            "Computed batch  6 [[[ 0.03319545  0.02222188 -0.01656238]\n",
            "  [ 0.04308079  0.04630573 -0.04294963]]]\n",
            "Computed batch  7 [[[ 0.03956019  0.02386229 -0.01295725]\n",
            "  [ 0.04112625  0.05224359 -0.04551555]]]\n",
            "Computed batch  8 [[[ 0.04607086  0.02365102 -0.00855485]\n",
            "  [ 0.04418395  0.05850542 -0.04572523]]]\n",
            "Computed batch  9 [[[ 0.05316684  0.02243014 -0.0027974 ]\n",
            "  [ 0.04704648  0.06558716 -0.04517164]]]\n",
            "Computed batch  10 [[[ 0.06085178  0.02180776  0.00412158]\n",
            "  [ 0.04703935  0.0733217  -0.04453444]]]\n",
            "Computed batch  11 [[[ 0.0687091   0.0197395   0.0112929 ]\n",
            "  [ 0.04937169  0.08136912 -0.04271715]]]\n",
            "Computed batch  12 [[[ 0.07717619  0.01805259  0.01908386]\n",
            "  [ 0.04890927  0.08997913 -0.04021959]]]\n",
            "Computed batch  13 [[[ 0.08616686  0.01578762  0.0275585 ]\n",
            "  [ 0.05044283  0.09903653 -0.03749253]]]\n",
            "Computed batch  14 [[[ 0.0955825   0.01278283  0.03656988]\n",
            "  [ 0.05305945  0.10849654 -0.03476437]]]\n",
            "Computed batch  15 [[[ 0.10530479  0.00907274  0.04601612]\n",
            "  [ 0.0555452   0.11829875 -0.03187338]]]\n",
            "Computed batch  16 [[[ 0.11532501  0.00539349  0.05580776]\n",
            "  [ 0.05628112  0.1284011  -0.0296179 ]]]\n",
            "Computed batch  17 [[[ 0.12557586  0.00299664  0.0658714 ]\n",
            "  [ 0.05500588  0.13872208 -0.02808343]]]\n",
            "Computed batch  18 [[[ 0.13576492 -0.00152138  0.07593113]\n",
            "  [ 0.05480585  0.14916349 -0.02738909]]]\n",
            "Computed batch  19 [[[ 0.14614977 -0.00588288  0.0862455 ]\n",
            "  [ 0.05429398  0.15980997 -0.02647897]]]\n",
            "Computed batch  20 [[[ 0.15675484 -0.00687282  0.09677078]\n",
            "  [ 0.05054566  0.17063374 -0.02595106]]]\n",
            "Computed batch  21 [[[ 0.16726841 -0.00880569  0.10729407]\n",
            "  [ 0.04859467  0.18149623 -0.02619447]]]\n",
            "Computed batch  22 [[[ 0.17808086 -0.01024685  0.11810777]\n",
            "  [ 0.0467746   0.19258023 -0.02616008]]]\n",
            "Computed batch  23 [[[ 0.18913628 -0.01012963  0.12917325]\n",
            "  [ 0.0427844   0.2038638  -0.02608525]]]\n",
            "Computed batch  24 [[[ 0.20013601 -0.01198533  0.14015591]\n",
            "  [ 0.0395712   0.21513241 -0.02658107]]]\n",
            "Computed batch  25 [[[ 0.2113547  -0.01425433  0.15137604]\n",
            "  [ 0.03793022  0.22660018 -0.02670524]]]\n",
            "Computed batch  26 [[[ 0.22283335 -0.01809432  0.16285463]\n",
            "  [ 0.03712299  0.23827521 -0.02576544]]]\n"
          ],
          "name": "stdout"
        }
      ]
    }
  ]
}