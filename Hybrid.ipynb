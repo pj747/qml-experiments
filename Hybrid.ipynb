{
  "nbformat": 4,
  "nbformat_minor": 0,
  "metadata": {
    "colab": {
      "name": "Hybrid.ipynb",
      "provenance": [],
      "collapsed_sections": [],
      "authorship_tag": "ABX9TyO+XyF1rVRPRoSDcfUlIqsW",
      "include_colab_link": true
    },
    "kernelspec": {
      "name": "python3",
      "display_name": "Python 3"
    },
    "language_info": {
      "name": "python"
    }
  },
  "cells": [
    {
      "cell_type": "markdown",
      "metadata": {
        "id": "view-in-github",
        "colab_type": "text"
      },
      "source": [
        "<a href=\"https://colab.research.google.com/github/pj747/qml-experiments/blob/main/Hybrid.ipynb\" target=\"_parent\"><img src=\"https://colab.research.google.com/assets/colab-badge.svg\" alt=\"Open In Colab\"/></a>"
      ]
    },
    {
      "cell_type": "code",
      "metadata": {
        "id": "XJTVCV_H-Qq3"
      },
      "source": [
        "# !pip install wandb\n",
        "# !wandb login"
      ],
      "execution_count": 1,
      "outputs": []
    },
    {
      "cell_type": "code",
      "metadata": {
        "id": "ZOfZ7Oiwaief",
        "colab": {
          "base_uri": "https://localhost:8080/"
        },
        "outputId": "b94a61e5-4122-4ab4-e967-ae8ff2d2e0f6"
      },
      "source": [
        "!pip install pennylane --upgrade\n",
        "# !pip install pennylane-qulacs[\"gpu\"] --upgrade"
      ],
      "execution_count": 2,
      "outputs": [
        {
          "output_type": "stream",
          "text": [
            "Collecting pennylane\n",
            "  Using cached https://files.pythonhosted.org/packages/61/ad/d18c5113d7c536c7b4544c2741795af7abde9557ef433c7814aa7d10d845/PennyLane-0.16.0-py3-none-any.whl\n",
            "Requirement already satisfied, skipping upgrade: appdirs in /usr/local/lib/python3.7/dist-packages (from pennylane) (1.4.4)\n",
            "Requirement already satisfied, skipping upgrade: toml in /usr/local/lib/python3.7/dist-packages (from pennylane) (0.10.2)\n",
            "Requirement already satisfied, skipping upgrade: autograd in /usr/local/lib/python3.7/dist-packages (from pennylane) (1.3)\n",
            "Requirement already satisfied, skipping upgrade: scipy in /usr/local/lib/python3.7/dist-packages (from pennylane) (1.4.1)\n",
            "Requirement already satisfied, skipping upgrade: numpy in /usr/local/lib/python3.7/dist-packages (from pennylane) (1.19.5)\n",
            "Requirement already satisfied, skipping upgrade: networkx in /usr/local/lib/python3.7/dist-packages (from pennylane) (2.5.1)\n",
            "Collecting semantic-version==2.6\n",
            "  Using cached https://files.pythonhosted.org/packages/28/be/3a7241d731ba89063780279a5433f5971c1cf41735b64a9f874b7c3ff995/semantic_version-2.6.0-py3-none-any.whl\n",
            "Collecting autoray\n",
            "  Using cached https://files.pythonhosted.org/packages/2e/9f/6742425eba1664edc8d6e93dd4536f4552acacd1a7b3a7ac2871657c969a/autoray-0.2.5-py3-none-any.whl\n",
            "Requirement already satisfied, skipping upgrade: future>=0.15.2 in /usr/local/lib/python3.7/dist-packages (from autograd->pennylane) (0.16.0)\n",
            "Requirement already satisfied, skipping upgrade: decorator<5,>=4.3 in /usr/local/lib/python3.7/dist-packages (from networkx->pennylane) (4.4.2)\n",
            "Installing collected packages: semantic-version, autoray, pennylane\n",
            "Successfully installed autoray-0.2.5 pennylane-0.16.0 semantic-version-2.6.0\n"
          ],
          "name": "stdout"
        }
      ]
    },
    {
      "cell_type": "code",
      "metadata": {
        "id": "yEP3SSThY1Gl"
      },
      "source": [
        "import pennylane as qml\n",
        "from pennylane import qnn\n",
        "from pennylane import numpy as np"
      ],
      "execution_count": 3,
      "outputs": []
    },
    {
      "cell_type": "code",
      "metadata": {
        "id": "LvzUfOlgjftG"
      },
      "source": [
        "import torch"
      ],
      "execution_count": 4,
      "outputs": []
    },
    {
      "cell_type": "code",
      "metadata": {
        "id": "bNYKVurzu7R8"
      },
      "source": [
        "from types import SimpleNamespace\n",
        "from sklearn.datasets import load_breast_cancer\n",
        "from sklearn.model_selection import train_test_split\n",
        "dataSet = load_breast_cancer()\n",
        "X = dataSet.data\n",
        "Y = dataSet.target\n",
        "from sklearn.preprocessing import StandardScaler\n",
        "scaler = StandardScaler()\n",
        "X = scaler.fit_transform(X)\n",
        "Y = Y * 2 - np.ones(len(Y))\n",
        "X_train, X_test, Y_train, Y_test = train_test_split(X, Y, test_size=0.1, random_state=1)\n",
        "# y_ = torch.unsqueeze(torch.tensor(Y_train), 1)  # used for one-hot encoded labels\n",
        "# print(np.shape(y_))\n",
        "# y_hot = torch.nn.functional.one_hot(torch.tensor(Y_train), num_classes=2)"
      ],
      "execution_count": 5,
      "outputs": []
    },
    {
      "cell_type": "code",
      "metadata": {
        "id": "HFEQxCrRuBqJ"
      },
      "source": [
        "class QuantumOutput(torch.nn.Module):\n",
        "    ## convert output from (-1, -1) to (0,0)\n",
        "    def __init__(self):\n",
        "        super().__init__()\n",
        "    \n",
        "    def forward(self, X):\n",
        "        return X*0 + 0.5"
      ],
      "execution_count": 6,
      "outputs": []
    },
    {
      "cell_type": "code",
      "metadata": {
        "id": "rQ9xITmQjg0X"
      },
      "source": [
        "n_qubits = 2\n",
        "dev = qml.device(\"default.qubit\", wires=n_qubits)\n",
        "\n",
        "@qml.qnode(dev)\n",
        "def qnode(inputs, weights):\n",
        "    for i in range(0,len(inputs), 2):\n",
        "        qml.RX(inputs[i], wires=[0])\n",
        "        qml.RX(inputs[i+1], wires=[1])\n",
        "    qml.Rot(*weights[0], wires=[1])\n",
        "    qml.CZ(wires=[0,1])\n",
        "    # qml.templates.BasicEntanglerLayers(weights, wires=range(n_qubits))\n",
        "    qml.Rot(*weights[1], wires=[0])\n",
        "    return qml.expval(qml.PauliZ(wires=[0]))"
      ],
      "execution_count": 7,
      "outputs": []
    },
    {
      "cell_type": "code",
      "metadata": {
        "id": "iy916UaMl8US"
      },
      "source": [
        "weight_shapes = {\"weights\" : (2,3)}\n",
        "qlayer = qml.qnn.TorchLayer(qnode, weight_shapes)\n"
      ],
      "execution_count": 8,
      "outputs": []
    },
    {
      "cell_type": "code",
      "metadata": {
        "id": "eY-xjIqLj6el"
      },
      "source": [
        "clayer_1 = torch.nn.Linear(30, 30)\n",
        "clayer_2 = torch.nn.Linear(2, 2)\n",
        "softmax = torch.nn.Softmax(dim=1)\n",
        "layers = [clayer_1, qlayer]\n",
        "torch.nn.init.uniform_(qlayer.weights, a=0.0, b=0.001)\n",
        "model = torch.nn.Sequential(*layers)"
      ],
      "execution_count": 9,
      "outputs": []
    },
    {
      "cell_type": "code",
      "metadata": {
        "colab": {
          "base_uri": "https://localhost:8080/",
          "height": 229
        },
        "id": "KbsfDBwPkYzq",
        "outputId": "86d943c0-07a4-44eb-bf0d-5f3de6927e5d"
      },
      "source": [
        "opt = torch.optim.Adam(model.parameters(), lr=0.01)\n",
        "loss = torch.nn.MSELoss()\n",
        "X_train = torch.tensor(X_train, requires_grad=True).float()\n",
        "Y_train = torch.tensor(Y_train, requires_grad=False).float()\n",
        "y_hot = y_hot.float()\n",
        "\n",
        "batch_size = 5\n",
        "batches = 100 // batch_size\n",
        "\n",
        "data_loader = torch.utils.data.DataLoader(\n",
        "    list(zip(X_train, Y_train)), batch_size=5, shuffle=True, drop_last=True\n",
        ")\n",
        "\n",
        "epochs = 6\n",
        "\n",
        "for epoch in range(epochs):\n",
        "\n",
        "    running_loss = 0\n",
        "\n",
        "    for xs, ys in data_loader:\n",
        "        opt.zero_grad()\n",
        "\n",
        "        loss_evaluated = loss(model(xs), ys)\n",
        "        loss_evaluated.backward()\n",
        "\n",
        "        opt.step()\n",
        "\n",
        "        running_loss += loss_evaluated\n",
        "\n",
        "    avg_loss = running_loss / batches\n",
        "    print(\"Average loss over epoch {}: {:.4f}\".format(epoch + 1, avg_loss))\n",
        "\n"
      ],
      "execution_count": 10,
      "outputs": [
        {
          "output_type": "error",
          "ename": "NameError",
          "evalue": "ignored",
          "traceback": [
            "\u001b[0;31m---------------------------------------------------------------------------\u001b[0m",
            "\u001b[0;31mNameError\u001b[0m                                 Traceback (most recent call last)",
            "\u001b[0;32m<ipython-input-10-ab5a8fa33439>\u001b[0m in \u001b[0;36m<module>\u001b[0;34m()\u001b[0m\n\u001b[1;32m      3\u001b[0m \u001b[0mX_train\u001b[0m \u001b[0;34m=\u001b[0m \u001b[0mtorch\u001b[0m\u001b[0;34m.\u001b[0m\u001b[0mtensor\u001b[0m\u001b[0;34m(\u001b[0m\u001b[0mX_train\u001b[0m\u001b[0;34m,\u001b[0m \u001b[0mrequires_grad\u001b[0m\u001b[0;34m=\u001b[0m\u001b[0;32mTrue\u001b[0m\u001b[0;34m)\u001b[0m\u001b[0;34m.\u001b[0m\u001b[0mfloat\u001b[0m\u001b[0;34m(\u001b[0m\u001b[0;34m)\u001b[0m\u001b[0;34m\u001b[0m\u001b[0;34m\u001b[0m\u001b[0m\n\u001b[1;32m      4\u001b[0m \u001b[0mY_train\u001b[0m \u001b[0;34m=\u001b[0m \u001b[0mtorch\u001b[0m\u001b[0;34m.\u001b[0m\u001b[0mtensor\u001b[0m\u001b[0;34m(\u001b[0m\u001b[0mY_train\u001b[0m\u001b[0;34m,\u001b[0m \u001b[0mrequires_grad\u001b[0m\u001b[0;34m=\u001b[0m\u001b[0;32mFalse\u001b[0m\u001b[0;34m)\u001b[0m\u001b[0;34m.\u001b[0m\u001b[0mfloat\u001b[0m\u001b[0;34m(\u001b[0m\u001b[0;34m)\u001b[0m\u001b[0;34m\u001b[0m\u001b[0;34m\u001b[0m\u001b[0m\n\u001b[0;32m----> 5\u001b[0;31m \u001b[0my_hot\u001b[0m \u001b[0;34m=\u001b[0m \u001b[0my_hot\u001b[0m\u001b[0;34m.\u001b[0m\u001b[0mfloat\u001b[0m\u001b[0;34m(\u001b[0m\u001b[0;34m)\u001b[0m\u001b[0;34m\u001b[0m\u001b[0;34m\u001b[0m\u001b[0m\n\u001b[0m\u001b[1;32m      6\u001b[0m \u001b[0;34m\u001b[0m\u001b[0m\n\u001b[1;32m      7\u001b[0m \u001b[0mbatch_size\u001b[0m \u001b[0;34m=\u001b[0m \u001b[0;36m5\u001b[0m\u001b[0;34m\u001b[0m\u001b[0;34m\u001b[0m\u001b[0m\n",
            "\u001b[0;31mNameError\u001b[0m: name 'y_hot' is not defined"
          ]
        }
      ]
    },
    {
      "cell_type": "code",
      "metadata": {
        "id": "nhOllky5A6SA"
      },
      "source": [
        "y_pred = model(X_train)\n",
        "y_pred = y_pred.detach().numpy()  \n",
        "print(y_pred)\n",
        "threshold = lambda x: 1 if x > 0 else -1 \n",
        "vfunc = np.vectorize(threshold)\n",
        "y_pred = vfunc(y_pred)\n",
        "print(y_pred)\n",
        "\n",
        "predictions = y_pred\n",
        "print(Y_train)\n",
        "correct = [1 if p == p_true else 0 for p, p_true in zip(predictions, Y_train)]\n",
        "accuracy = sum(correct) / len(correct)\n",
        "print(f\"Accuracy: {accuracy * 100}%\")"
      ],
      "execution_count": null,
      "outputs": []
    },
    {
      "cell_type": "code",
      "metadata": {
        "id": "L3rKg-Nh4ZD2"
      },
      "source": [
        "print(y_pred)\n",
        "print(predictions)"
      ],
      "execution_count": null,
      "outputs": []
    },
    {
      "cell_type": "code",
      "metadata": {
        "id": "UrVSOd9K95-l"
      },
      "source": [
        "import math\n",
        "\n",
        "\n",
        "import tensorflow as tf\n",
        "import tensorflow.keras as K\n",
        "from tensorflow.keras.layers import Dense\n",
        "from tensorflow.keras.models import Sequential\n",
        "from tensorflow.keras.optimizers import Adam \n",
        "tf.keras.backend.set_floatx('float64')"
      ],
      "execution_count": null,
      "outputs": []
    },
    {
      "cell_type": "code",
      "metadata": {
        "id": "l2E50JT6xZim"
      },
      "source": [
        "dev = qml.device(\"default.qubit\", wires=2)\n",
        "\n",
        "@qml.qnode(dev)\n",
        "def qnode(inputs, weights_1, weights_2):\n",
        "    for i in range(0,len(inputs)-1,2): \n",
        "        qml.RX(inputs[i], wires=[0])\n",
        "    qml.CZ(wires=[1,0])\n",
        "    qml.Rot(*weights_1, wires=0)\n",
        "    qml.Rot(*weights_2, wires=1)\n",
        "    return (qml.expval(qml.PauliZ(0)))"
      ],
      "execution_count": null,
      "outputs": []
    },
    {
      "cell_type": "code",
      "metadata": {
        "id": "h2TiHb1DxfRJ"
      },
      "source": [
        "weight_shapes = {\"weights_1\": 3, \"weights_2\" : 3}\n",
        "qlayer = qml.qnn.KerasLayer(qnode, weight_shapes, output_dim=1)\n",
        "clayer = tf.keras.layers.Dense(5, input_dim=30, activation='relu')\n",
        "outLayer = tf.keras.layers.Dense(1, activation=\"sigmoid\")\n",
        "model = tf.keras.models.Sequential([qlayer])"
      ],
      "execution_count": null,
      "outputs": []
    },
    {
      "cell_type": "code",
      "metadata": {
        "id": "iw-3i-hy99AC"
      },
      "source": [
        "dataSet = load_breast_cancer()\n",
        "X = dataSet.data\n",
        "Y = dataSet.target\n",
        "from sklearn.preprocessing import StandardScaler\n",
        "scaler = StandardScaler()\n",
        "X = scaler.fit_transform(X)\n",
        "Y = Y * 2 - np.ones(len(Y))\n",
        "X_train, X_test, Y_train, Y_test = train_test_split(X, Y, test_size=0.1, random_state=1)\n",
        "model.compile(Adam(), loss='binary_crossentropy', metrics=['accuracy'])\n",
        "\n",
        "model.fit(X_train, Y_train, epochs=1, batch_size=1)"
      ],
      "execution_count": null,
      "outputs": []
    },
    {
      "cell_type": "code",
      "metadata": {
        "id": "xtjKoinjOaRX"
      },
      "source": [
        "model.predict(Y_test)"
      ],
      "execution_count": null,
      "outputs": []
    },
    {
      "cell_type": "code",
      "metadata": {
        "id": "ZbWLHXUh7DEd"
      },
      "source": [
        "model.summary()"
      ],
      "execution_count": null,
      "outputs": []
    },
    {
      "cell_type": "code",
      "metadata": {
        "id": "SXtg4GpFxm2H"
      },
      "source": [
        "import sklearn.datasets\n",
        "data = sklearn.datasets.make_moons()\n",
        "X = tf.constant(data[0])\n",
        "Y = tf.one_hot(data[1], depth=2)\n",
        "\n",
        "opt = tf.keras.optimizers.SGD(learning_rate=0.5)\n",
        "model.compile(opt, loss='mae', metrics=['accuracy'])\n",
        "\n",
        "model.fit(X, Y, epochs=8, batch_size=5)\n",
        "model.summary()"
      ],
      "execution_count": null,
      "outputs": []
    },
    {
      "cell_type": "code",
      "metadata": {
        "id": "mLKSbikmFdSc"
      },
      "source": [
        "def makeModel(config):\n",
        "    numQubits = config.numQubits\n",
        "    dev = qml.device(\"qulacs.simulator\", wires=numQubits, shots=1000, gpu=True)\n",
        "    @qml.qnode(dev)\n",
        "    def qcircuit(inputs, param):\n",
        "        for i in range(config.numLayers):\n",
        "            # norm = np.linalg.norm(inputs)\n",
        "            # norm = norm if norm !=0 else 1 \n",
        "            for i in range(0, len(inputs)-numQubits, numQubits):\n",
        "                for j in range(numQubits):\n",
        "                    qml.RX(inputs[i+j]*2*math.pi/norm, wires=j)\n",
        "            if config.fullEntangle:\n",
        "                for j in range(numQubits):\n",
        "                    for i in range(j):\n",
        "                        qml.CZ(wires=[j,i])\n",
        "            else:\n",
        "                for j in range(numQubits-1):\n",
        "                    qml.CZ(wires=[j,j+1])\n",
        "            for j in range(numQubits):\n",
        "                qml.Rot(param[j][i][0], param[j][i][1], param[j][i][2], wires = [j])\n",
        "            \n",
        "        return [qml.expval(qml.PauliZ(0))]\n",
        "        \n",
        "    \n",
        "    return qcircuit"
      ],
      "execution_count": null,
      "outputs": []
    },
    {
      "cell_type": "code",
      "metadata": {
        "id": "Sb5Vo1Y3F_SZ"
      },
      "source": [
        "config = SimpleNamespace(\n",
        "        numQubits = 1,\n",
        "        numLayers = 1,\n",
        "        dev = \"default.qubit\",\n",
        "        batchSize = 4,\n",
        "        numBatches = 300,\n",
        "        fullEntangle = True\n",
        ")\n",
        "node = makeModel(config)\n",
        "weight_shapes = {\"param\": (config.numQubits, config.numLayers, 3)}\n"
      ],
      "execution_count": null,
      "outputs": []
    },
    {
      "cell_type": "code",
      "metadata": {
        "id": "-sR5DZ8VGces"
      },
      "source": [
        "qlayer = qml.qnn.KerasLayer(node, weight_shapes, output_dim=1)"
      ],
      "execution_count": null,
      "outputs": []
    },
    {
      "cell_type": "code",
      "metadata": {
        "id": "eOkl6uXAJh42"
      },
      "source": [
        "inputLayer = K.layers.InputLayer(30)\n",
        "clayer = Dense(30)\n",
        "model = Sequential([inputLayer, qlayer])\n",
        "model.compile(Adam(), loss = 'mse', metrics=['accuracy'])\n",
        "model.summary()"
      ],
      "execution_count": null,
      "outputs": []
    },
    {
      "cell_type": "code",
      "metadata": {
        "id": "pfB-gutshA2n"
      },
      "source": [
        "print(X_train.shape)"
      ],
      "execution_count": null,
      "outputs": []
    },
    {
      "cell_type": "code",
      "metadata": {
        "id": "ZhiZdxtYJyk0"
      },
      "source": [
        "fitting = model.fit(X_train, Y_train, epochs=6, batch_size=config.batchSize, verbose=2)"
      ],
      "execution_count": null,
      "outputs": []
    },
    {
      "cell_type": "code",
      "metadata": {
        "id": "j_GZ1ol5pxT3"
      },
      "source": [
        "import matplotlib.pyplot as plt\n",
        "import numpy as np\n",
        "from sklearn.datasets import make_moons\n",
        "\n",
        "# Set random seeds\n",
        "np.random.seed(42)\n",
        "tf.random.set_seed(42)\n",
        "\n",
        "X, y = make_moons(n_samples=500, noise=0.1)\n",
        "y_hot = tf.keras.utils.to_categorical(y, num_classes=2)"
      ],
      "execution_count": null,
      "outputs": []
    },
    {
      "cell_type": "code",
      "metadata": {
        "id": "r5EO6I1Ipax-"
      },
      "source": [
        "import pennylane as qml\n",
        "\n",
        "n_qubits = 2\n",
        "dev = qml.device(\"default.qubit\", wires=n_qubits)\n",
        "\n",
        "@qml.qnode(dev)\n",
        "def qnode(inputs, weights):\n",
        "    qml.templates.AngleEmbedding(inputs, wires=range(n_qubits))\n",
        "    qml.templates.BasicEntanglerLayers(weights, wires=range(n_qubits))\n",
        "    return [qml.expval(qml.PauliZ(wires=i)) for i in range(n_qubits)]"
      ],
      "execution_count": null,
      "outputs": []
    },
    {
      "cell_type": "code",
      "metadata": {
        "id": "Mj4VGg0Epb9z"
      },
      "source": [
        "n_layers = 6\n",
        "weight_shapes = {\"weights\": (n_layers, n_qubits)}\n"
      ],
      "execution_count": null,
      "outputs": []
    },
    {
      "cell_type": "code",
      "metadata": {
        "id": "xpnDYZG6pirV"
      },
      "source": [
        "qlayer = qml.qnn.KerasLayer(qnode, weight_shapes, output_dim=n_qubits)\n"
      ],
      "execution_count": null,
      "outputs": []
    },
    {
      "cell_type": "code",
      "metadata": {
        "id": "588MBpkTpm6X"
      },
      "source": [
        "clayer_1 = tf.keras.layers.Dense(2)\n",
        "clayer_2 = tf.keras.layers.Dense(2, activation=\"softmax\")\n",
        "model = tf.keras.models.Sequential([clayer_1, qlayer, clayer_2])"
      ],
      "execution_count": null,
      "outputs": []
    },
    {
      "cell_type": "code",
      "metadata": {
        "id": "OpOxvmSUpoKo"
      },
      "source": [
        "opt = tf.keras.optimizers.SGD(learning_rate=0.2)\n",
        "model.compile(opt, loss=\"mae\", metrics=[\"accuracy\"])"
      ],
      "execution_count": null,
      "outputs": []
    },
    {
      "cell_type": "code",
      "metadata": {
        "id": "OJVFUX3Pprdf"
      },
      "source": [
        "fitting = model.fit(X, y_hot, epochs=6, batch_size=5, validation_split=0.25, verbose=2)"
      ],
      "execution_count": null,
      "outputs": []
    },
    {
      "cell_type": "code",
      "metadata": {
        "id": "l4hukoe-qVRb"
      },
      "source": [
        ""
      ],
      "execution_count": null,
      "outputs": []
    }
  ]
}